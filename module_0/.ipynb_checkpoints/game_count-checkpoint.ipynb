{
 "cells": [
  {
   "cell_type": "code",
   "execution_count": 2,
   "metadata": {},
   "outputs": [
    {
     "name": "stdout",
     "output_type": "stream",
     "text": [
      "Загадано число от 1 до 100\n",
      "6\n",
      "Угадываемое число больше 6 \n",
      "8\n",
      "Угадываемое число больше 8 \n",
      "9\n",
      "Угадываемое число больше 9 \n",
      "0\n",
      "Угадываемое число больше 0 \n",
      "55\n",
      "Угадываемое число больше 55 \n",
      "88\n",
      "Угадываемое число меньше 88 \n",
      "77\n",
      "Угадываемое число меньше 77 \n",
      "66\n",
      "Угадываемое число меньше 66 \n",
      "60\n",
      "Угадываемое число больше 60 \n",
      "64\n",
      "Угадываемое число меньше 64 \n",
      "63\n",
      "Угадываемое число меньше 63 \n",
      "62\n",
      "Угадываемое число меньше 62 \n",
      "61\n",
      "Вы угадали число 61 за 13 попыток.\n"
     ]
    }
   ],
   "source": [
    "import numpy as np\n",
    "\n",
    "count = 0                           # счетчик попыток\n",
    "number = np.random.randint(1,101)   # загадали число\n",
    "print (\"Загадано число от 1 до 100\")\n",
    "    \n",
    "while True:                        # бесконечный цикл\n",
    "    predict = int(input())         # предполагаемое число\n",
    "    count += 1                     # плюсуем попытку\n",
    "    if number == predict: break    # выход из цикла, если угадали\n",
    "    elif number > predict: print (f\"Угадываемое число больше {predict} \")\n",
    "    elif number < predict: print (f\"Угадываемое число меньше {predict} \")\n",
    "            \n",
    "print (f\"Вы угадали число {number} за {count} попыток.\")    "
   ]
  },
  {
   "cell_type": "code",
   "execution_count": null,
   "metadata": {},
   "outputs": [],
   "source": []
  }
 ],
 "metadata": {
  "kernelspec": {
   "display_name": "Python 3",
   "language": "python",
   "name": "python3"
  },
  "language_info": {
   "codemirror_mode": {
    "name": "ipython",
    "version": 3
   },
   "file_extension": ".py",
   "mimetype": "text/x-python",
   "name": "python",
   "nbconvert_exporter": "python",
   "pygments_lexer": "ipython3",
   "version": "3.8.5"
  }
 },
 "nbformat": 4,
 "nbformat_minor": 4
}
