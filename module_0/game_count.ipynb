{
 "cells": [
  {
   "cell_type": "code",
   "execution_count": 49,
   "metadata": {},
   "outputs": [
    {
     "name": "stdout",
     "output_type": "stream",
     "text": [
      "Ваш алгоритм угадывает число в среднем за 5 попыток\n",
      "Вывод: алгоритм с делением диапазона пополам и сокращением границ, является оптимальным для решения данной задачи\n"
     ]
    }
   ],
   "source": [
    "import numpy as np\n",
    "\n",
    "number = np.random.randint(1,101) \n",
    "def game_core_v3(number):\n",
    "    number_min = 1\n",
    "    mumber_max = 100\n",
    "    predict = 0\n",
    "    count = 0\n",
    "    \n",
    "    while True:\n",
    "        predict = (number_min + mumber_max) // 2   #Находим середину\n",
    "        if number < predict:                       #Определяем в какой половине будем продолжать поиск\n",
    "            mumber_max = predict - 1               #Уменьшаем границу диапазона\n",
    "            count += 1\n",
    "        elif number > predict:\n",
    "            number_min = predict + 1\n",
    "            count += 1\n",
    "        else:\n",
    "            count += 1\n",
    "            break\n",
    "    return count \n",
    "        \n",
    "def score_game(game_core):\n",
    "    '''Запускаем игру 1000 раз, чтобы узнать, как быстро игра угадывает число'''\n",
    "    count_ls = []\n",
    "    np.random.seed(1)  # фиксируем RANDOM SEED, чтобы ваш эксперимент был воспроизводим!\n",
    "    random_array = np.random.randint(1,101, size=(1000))\n",
    "    for number in random_array:\n",
    "        count_ls.append(game_core(number))\n",
    "    score = int(np.mean(count_ls))\n",
    "    print(f\"Ваш алгоритм угадывает число в среднем за {score} попыток\")\n",
    "    return(score)\n",
    "\n",
    "score_game(game_core_v3)\n",
    "\n",
    "print('Вывод: алгоритм с делением диапазона пополам и сокращением границ, является оптимальным для решения данной задачи')"
   ]
  },
  {
   "cell_type": "code",
   "execution_count": null,
   "metadata": {},
   "outputs": [],
   "source": []
  }
 ],
 "metadata": {
  "kernelspec": {
   "display_name": "Python 3",
   "language": "python",
   "name": "python3"
  },
  "language_info": {
   "codemirror_mode": {
    "name": "ipython",
    "version": 3
   },
   "file_extension": ".py",
   "mimetype": "text/x-python",
   "name": "python",
   "nbconvert_exporter": "python",
   "pygments_lexer": "ipython3",
   "version": "3.8.5"
  }
 },
 "nbformat": 4,
 "nbformat_minor": 4
}
